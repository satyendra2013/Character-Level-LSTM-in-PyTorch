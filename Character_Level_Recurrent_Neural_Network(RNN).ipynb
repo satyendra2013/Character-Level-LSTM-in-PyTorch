{
  "nbformat": 4,
  "nbformat_minor": 0,
  "metadata": {
    "colab": {
      "name": "Character_Level_RNN_Exercise.ipynb",
      "version": "0.3.2",
      "provenance": [],
      "collapsed_sections": [],
      "include_colab_link": true
    },
    "kernelspec": {
      "name": "python3",
      "display_name": "Python 3"
    },
    "accelerator": "GPU"
  },
  "cells": [
    {
      "cell_type": "markdown",
      "metadata": {
        "id": "view-in-github",
        "colab_type": "text"
      },
      "source": [
        "<a href=\"https://colab.research.google.com/github/satyendra2013/Character-Level-LSTM-in-PyTorch/blob/master/Character_Level_Recurrent_Neural_Network(RNN).ipynb\" target=\"_parent\"><img src=\"https://colab.research.google.com/assets/colab-badge.svg\" alt=\"Open In Colab\"/></a>"
      ]
    },
    {
      "metadata": {
        "id": "wOSqvCAxq_IJ",
        "colab_type": "text"
      },
      "cell_type": "markdown",
      "source": [
        "# Character-Level LSTM in PyTorch\n",
        "\n",
        "In this notebook, I'll construct a character-level LSTM with PyTorch. The network will train character by character on some text, then generate new text character by character. As an example, I will train on Anna Karenina. **This model will be able to generate new text based on the text from the book!**\n",
        "\n",
        "This network is based off of Andrej Karpathy's [post on RNNs](http://karpathy.github.io/2015/05/21/rnn-effectiveness/) and [implementation in Torch](https://github.com/karpathy/char-rnn). Below is the general architecture of the character-wise RNN.\n",
        "\n",
        "<img src=\"assets/charseq.jpeg\" width=\"500\">"
      ]
    },
    {
      "metadata": {
        "id": "Ds1K8cStrODw",
        "colab_type": "code",
        "outputId": "22e4f329-237d-4dc1-8a2f-2c5360aa024c",
        "colab": {
          "base_uri": "https://localhost:8080/",
          "height": 34
        }
      },
      "cell_type": "code",
      "source": [
        "from google.colab import drive\n",
        "drive.mount('/content/drive')\n"
      ],
      "execution_count": 0,
      "outputs": [
        {
          "output_type": "stream",
          "text": [
            "Drive already mounted at /content/drive; to attempt to forcibly remount, call drive.mount(\"/content/drive\", force_remount=True).\n"
          ],
          "name": "stdout"
        }
      ]
    },
    {
      "metadata": {
        "id": "72mnUWqPrPmp",
        "colab_type": "code",
        "outputId": "0093a623-b043-4994-d353-f67fba32003a",
        "colab": {
          "base_uri": "https://localhost:8080/",
          "height": 138
        }
      },
      "cell_type": "code",
      "source": [
        "!pip3 install http://download.pytorch.org/whl/cu92/torch-0.4.1-cp36-cp36m-linux_x86_64.whl\n",
        "!pip3 install torchvision"
      ],
      "execution_count": 0,
      "outputs": [
        {
          "output_type": "stream",
          "text": [
            "Requirement already satisfied: torch==0.4.1 from http://download.pytorch.org/whl/cu92/torch-0.4.1-cp36-cp36m-linux_x86_64.whl in /usr/local/lib/python3.6/dist-packages (0.4.1)\n",
            "Requirement already satisfied: torchvision in /usr/local/lib/python3.6/dist-packages (0.2.1)\n",
            "Requirement already satisfied: six in /usr/local/lib/python3.6/dist-packages (from torchvision) (1.11.0)\n",
            "Requirement already satisfied: pillow>=4.1.1 in /usr/local/lib/python3.6/dist-packages (from torchvision) (5.3.0)\n",
            "Requirement already satisfied: numpy in /usr/local/lib/python3.6/dist-packages (from torchvision) (1.14.6)\n",
            "Requirement already satisfied: torch in /usr/local/lib/python3.6/dist-packages (from torchvision) (0.4.1)\n"
          ],
          "name": "stdout"
        }
      ]
    },
    {
      "metadata": {
        "id": "tBSmxewaq_IX",
        "colab_type": "text"
      },
      "cell_type": "markdown",
      "source": [
        "First let's load in our required resources for data loading and model creation."
      ]
    },
    {
      "metadata": {
        "id": "q7ZNGoESq_Id",
        "colab_type": "code",
        "colab": {}
      },
      "cell_type": "code",
      "source": [
        "import numpy as np\n",
        "import torch\n",
        "from torch import nn\n",
        "import torch.nn.functional as F"
      ],
      "execution_count": 0,
      "outputs": []
    },
    {
      "metadata": {
        "id": "8AiWNhWeq_Io",
        "colab_type": "text"
      },
      "cell_type": "markdown",
      "source": [
        "## Load in Data\n",
        "\n",
        "Then, we'll load the Anna Karenina text file and convert it into integers for our network to use. "
      ]
    },
    {
      "metadata": {
        "id": "o5YbVTEEq_Iq",
        "colab_type": "code",
        "colab": {}
      },
      "cell_type": "code",
      "source": [
        "# open text file and read in data as `text`\n",
        "with open('drive/My Drive/recurrent-neural-networks/char-rnn/data/anna.txt', 'r') as f:\n",
        "    text = f.read()"
      ],
      "execution_count": 0,
      "outputs": []
    },
    {
      "metadata": {
        "id": "biB6qudoq_Iz",
        "colab_type": "text"
      },
      "cell_type": "markdown",
      "source": [
        "Let's check out the first 100 characters, make sure everything is peachy. According to the [American Book Review](http://americanbookreview.org/100bestlines.asp), this is the 6th best first line of a book ever."
      ]
    },
    {
      "metadata": {
        "id": "MzpHB12bq_I0",
        "colab_type": "code",
        "outputId": "125c5c33-96d2-45a1-8df4-c504b6c46b18",
        "colab": {
          "base_uri": "https://localhost:8080/",
          "height": 34
        }
      },
      "cell_type": "code",
      "source": [
        "text[:100]"
      ],
      "execution_count": 0,
      "outputs": [
        {
          "output_type": "execute_result",
          "data": {
            "text/plain": [
              "'Chapter 1\\n\\n\\nHappy families are all alike; every unhappy family is unhappy in its own\\nway.\\n\\nEverythin'"
            ]
          },
          "metadata": {
            "tags": []
          },
          "execution_count": 5
        }
      ]
    },
    {
      "metadata": {
        "id": "a7wYbY_iq_JX",
        "colab_type": "text"
      },
      "cell_type": "markdown",
      "source": [
        "### Tokenization\n",
        "\n",
        "In the cells, below, I'm creating a couple **dictionaries** to convert the characters to and from integers. Encoding the characters as integers makes it easier to use as input in the network."
      ]
    },
    {
      "metadata": {
        "id": "TAt0_bQPq_JY",
        "colab_type": "code",
        "colab": {}
      },
      "cell_type": "code",
      "source": [
        "# encode the text and map each character to an integer and vice versa\n",
        "\n",
        "# we create two dictionaries:\n",
        "# 1. int2char, which maps integers to characters\n",
        "# 2. char2int, which maps characters to unique integers\n",
        "chars = tuple(set(text))\n",
        "int2char = dict(enumerate(chars))\n",
        "char2int = {ch: ii for ii, ch in int2char.items()}\n",
        "\n",
        "# encode the text\n",
        "encoded = np.array([char2int[ch] for ch in text])"
      ],
      "execution_count": 0,
      "outputs": []
    },
    {
      "metadata": {
        "id": "1-fxG8Acq_Jf",
        "colab_type": "text"
      },
      "cell_type": "markdown",
      "source": [
        "And we can see those same characters from above, encoded as integers."
      ]
    },
    {
      "metadata": {
        "id": "WZGPTbr4q_Jh",
        "colab_type": "code",
        "outputId": "b1c0c444-6cd0-4ed2-de55-d61d6a6123c6",
        "colab": {
          "base_uri": "https://localhost:8080/",
          "height": 118
        }
      },
      "cell_type": "code",
      "source": [
        "encoded[:100]"
      ],
      "execution_count": 0,
      "outputs": [
        {
          "output_type": "execute_result",
          "data": {
            "text/plain": [
              "array([ 2, 46, 48, 71, 43, 63,  3, 67, 82, 53, 53, 53, 58, 48, 71, 71,  0,\n",
              "       67, 13, 48, 23, 26,  4, 26, 63, 79, 67, 48,  3, 63, 67, 48,  4,  4,\n",
              "       67, 48,  4, 26, 52, 63,  6, 67, 63, 19, 63,  3,  0, 67, 40, 11, 46,\n",
              "       48, 71, 71,  0, 67, 13, 48, 23, 26,  4,  0, 67, 26, 79, 67, 40, 11,\n",
              "       46, 48, 71, 71,  0, 67, 26, 11, 67, 26, 43, 79, 67, 60, 57, 11, 53,\n",
              "       57, 48,  0, 54, 53, 53, 59, 19, 63,  3,  0, 43, 46, 26, 11])"
            ]
          },
          "metadata": {
            "tags": []
          },
          "execution_count": 7
        }
      ]
    },
    {
      "metadata": {
        "id": "Sc7XBTSTq_Jn",
        "colab_type": "text"
      },
      "cell_type": "markdown",
      "source": [
        "## Pre-processing the data\n",
        "\n",
        "As you can see in our char-RNN image above, our LSTM expects an input that is **one-hot encoded** meaning that each character is converted into an integer (via our created dictionary) and *then* converted into a column vector where only it's corresponding integer index will have the value of 1 and the rest of the vector will be filled with 0's. Since we're one-hot encoding the data, let's make a function to do that!\n"
      ]
    },
    {
      "metadata": {
        "id": "vA5ARJ8Tq_Jp",
        "colab_type": "code",
        "colab": {}
      },
      "cell_type": "code",
      "source": [
        "def one_hot_encode(arr, n_labels):\n",
        "    \n",
        "    # Initialize the the encoded array\n",
        "    one_hot = np.zeros((np.multiply(*arr.shape), n_labels), dtype=np.float32)\n",
        "    \n",
        "    # Fill the appropriate elements with ones\n",
        "    one_hot[np.arange(one_hot.shape[0]), arr.flatten()] = 1.\n",
        "    \n",
        "    # Finally reshape it to get back to the original array\n",
        "    one_hot = one_hot.reshape((*arr.shape, n_labels))\n",
        "    \n",
        "    return one_hot"
      ],
      "execution_count": 0,
      "outputs": []
    },
    {
      "metadata": {
        "id": "njQlBuLmq_J0",
        "colab_type": "code",
        "outputId": "747092c2-c479-41ee-9bad-ba8cc3eb076f",
        "colab": {
          "base_uri": "https://localhost:8080/",
          "height": 67
        }
      },
      "cell_type": "code",
      "source": [
        "# check that the function works as expected\n",
        "test_seq = np.array([[3, 5, 1]])\n",
        "one_hot = one_hot_encode(test_seq, 8)\n",
        "\n",
        "print(one_hot)"
      ],
      "execution_count": 0,
      "outputs": [
        {
          "output_type": "stream",
          "text": [
            "[[[0. 0. 0. 1. 0. 0. 0. 0.]\n",
            "  [0. 0. 0. 0. 0. 1. 0. 0.]\n",
            "  [0. 1. 0. 0. 0. 0. 0. 0.]]]\n"
          ],
          "name": "stdout"
        }
      ]
    },
    {
      "metadata": {
        "id": "zG2tcq6bq_J6",
        "colab_type": "text"
      },
      "cell_type": "markdown",
      "source": [
        "## Making training mini-batches\n",
        "\n",
        "\n",
        "To train on this data, we also want to create mini-batches for training. Remember that we want our batches to be multiple sequences of some desired number of sequence steps. Considering a simple example, our batches would look like this:\n",
        "\n",
        "<img src=\"assets/sequence_batching@1x.png\" width=500px>\n",
        "\n",
        "\n",
        "<br>\n",
        "\n",
        "In this example, we'll take the encoded characters (passed in as the `arr` parameter) and split them into multiple sequences, given by `batch_size`. Each of our sequences will be `seq_length` long.\n",
        "\n",
        "### Creating Batches\n",
        "\n",
        "**1. The first thing we need to do is discard some of the text so we only have completely full mini-batches. **\n",
        "\n",
        "Each batch contains $N \\times M$ characters, where $N$ is the batch size (the number of sequences in a batch) and $M$ is the seq_length or number of time steps in a sequence. Then, to get the total number of batches, $K$, that we can make from the array `arr`, you divide the length of `arr` by the number of characters per batch. Once you know the number of batches, you can get the total number of characters to keep from `arr`, $N * M * K$.\n",
        "\n",
        "**2. After that, we need to split `arr` into $N$ batches. ** \n",
        "\n",
        "You can do this using `arr.reshape(size)` where `size` is a tuple containing the dimensions sizes of the reshaped array. We know we want $N$ sequences in a batch, so let's make that the size of the first dimension. For the second dimension, you can use `-1` as a placeholder in the size, it'll fill up the array with the appropriate data for you. After this, you should have an array that is $N \\times (M * K)$.\n",
        "\n",
        "**3. Now that we have this array, we can iterate through it to get our mini-batches. **\n",
        "\n",
        "The idea is each batch is a $N \\times M$ window on the $N \\times (M * K)$ array. For each subsequent batch, the window moves over by `seq_length`. We also want to create both the input and target arrays. Remember that the targets are just the inputs shifted over by one character. The way I like to do this window is use `range` to take steps of size `n_steps` from $0$ to `arr.shape[1]`, the total number of tokens in each sequence. That way, the integers you get from `range` always point to the start of a batch, and each window is `seq_length` wide.\n",
        "\n",
        "> **TODO:** Write the code for creating batches in the function below. The exercises in this notebook _will not be easy_. I've provided a notebook with solutions alongside this notebook. If you get stuck, checkout the solutions. The most important thing is that you don't copy and paste the code into here, **type out the solution code yourself.**"
      ]
    },
    {
      "metadata": {
        "id": "tcXbsam5q_J9",
        "colab_type": "code",
        "colab": {}
      },
      "cell_type": "code",
      "source": [
        "def get_batches(arr, batch_size, seq_length):\n",
        "    '''Create a generator that returns batches of size\n",
        "       batch_size x seq_length from arr.\n",
        "       \n",
        "       Arguments\n",
        "       ---------\n",
        "       arr: Array you want to make batches from\n",
        "       batch_size: Batch size, the number of sequences per batch\n",
        "       seq_length: Number of encoded chars in a sequence\n",
        "    '''\n",
        "    batch_size_total = batch_size*seq_length\n",
        "    ## TODO: Get the number of batches we can make\n",
        "    n_batches = len(arr)//batch_size_total\n",
        "    \n",
        "    ## TODO: Keep only enough characters to make full batches\n",
        "    arr = arr[:n_batches*batch_size_total]\n",
        "    \n",
        "    ## TODO: Reshape into batch_size rows\n",
        "    arr = arr.reshape(batch_size, -1)\n",
        "    \n",
        "    ## TODO: Iterate over the batches using a window of size seq_length\n",
        "    for n in range(0, arr.shape[1], seq_length):\n",
        "        # The features\n",
        "        x = arr[:, n: n+seq_length]\n",
        "        # The targets, shifted by one\n",
        "        y = np.zeros_like(x)\n",
        "        try:\n",
        "            y[:, :-1], y[:, -1] = x[:, 1:], arr[:, n+seq_length]\n",
        "        except IndexError:\n",
        "            y[:, :-1], y[:, -1] = x[:, 1:], arr[:, 0]\n",
        "        yield x, y"
      ],
      "execution_count": 0,
      "outputs": []
    },
    {
      "metadata": {
        "id": "CCUbklM_q_KB",
        "colab_type": "text"
      },
      "cell_type": "markdown",
      "source": [
        "### Test Your Implementation\n",
        "\n",
        "Now I'll make some data sets and we can check out what's going on as we batch data. Here, as an example, I'm going to use a batch size of 8 and 50 sequence steps."
      ]
    },
    {
      "metadata": {
        "id": "HXOlV1j0q_KC",
        "colab_type": "code",
        "colab": {}
      },
      "cell_type": "code",
      "source": [
        "batches = get_batches(encoded, 8, 50)\n",
        "x, y = next(batches)"
      ],
      "execution_count": 0,
      "outputs": []
    },
    {
      "metadata": {
        "id": "77k5Sr38q_KF",
        "colab_type": "code",
        "outputId": "68311d1f-9062-44fc-8134-77f26b5bf4d3",
        "colab": {
          "base_uri": "https://localhost:8080/",
          "height": 336
        }
      },
      "cell_type": "code",
      "source": [
        "# printing out the first 10 items in a sequence\n",
        "print('x\\n', x[:10, :10])\n",
        "print('\\ny\\n', y[:10, :10])"
      ],
      "execution_count": 0,
      "outputs": [
        {
          "output_type": "stream",
          "text": [
            "x\n",
            " [[ 2 46 48 71 43 63  3 67 82 53]\n",
            " [79 60 11 67 43 46 48 43 67 48]\n",
            " [63 11 21 67 60  3 67 48 67 13]\n",
            " [79 67 43 46 63 67 55 46 26 63]\n",
            " [67 79 48 57 67 46 63  3 67 43]\n",
            " [55 40 79 79 26 60 11 67 48 11]\n",
            " [67 41 11 11 48 67 46 48 21 67]\n",
            " [68 81  4 60 11 79 52  0 54 67]]\n",
            "\n",
            "y\n",
            " [[46 48 71 43 63  3 67 82 53 53]\n",
            " [60 11 67 43 46 48 43 67 48 43]\n",
            " [11 21 67 60  3 67 48 67 13 60]\n",
            " [67 43 46 63 67 55 46 26 63 13]\n",
            " [79 48 57 67 46 63  3 67 43 63]\n",
            " [40 79 79 26 60 11 67 48 11 21]\n",
            " [41 11 11 48 67 46 48 21 67 79]\n",
            " [81  4 60 11 79 52  0 54 67 28]]\n"
          ],
          "name": "stdout"
        }
      ]
    },
    {
      "metadata": {
        "id": "1gG0sbUWq_KJ",
        "colab_type": "text"
      },
      "cell_type": "markdown",
      "source": [
        "If you implemented `get_batches` correctly, the above output should look something like \n",
        "```\n",
        "x\n",
        " [[25  8 60 11 45 27 28 73  1  2]\n",
        " [17  7 20 73 45  8 60 45 73 60]\n",
        " [27 20 80 73  7 28 73 60 73 65]\n",
        " [17 73 45  8 27 73 66  8 46 27]\n",
        " [73 17 60 12 73  8 27 28 73 45]\n",
        " [66 64 17 17 46  7 20 73 60 20]\n",
        " [73 76 20 20 60 73  8 60 80 73]\n",
        " [47 35 43  7 20 17 24 50 37 73]]\n",
        "\n",
        "y\n",
        " [[ 8 60 11 45 27 28 73  1  2  2]\n",
        " [ 7 20 73 45  8 60 45 73 60 45]\n",
        " [20 80 73  7 28 73 60 73 65  7]\n",
        " [73 45  8 27 73 66  8 46 27 65]\n",
        " [17 60 12 73  8 27 28 73 45 27]\n",
        " [64 17 17 46  7 20 73 60 20 80]\n",
        " [76 20 20 60 73  8 60 80 73 17]\n",
        " [35 43  7 20 17 24 50 37 73 36]]\n",
        " ```\n",
        " although the exact numbers may be different. Check to make sure the data is shifted over one step for `y`."
      ]
    },
    {
      "metadata": {
        "id": "gk9weeJRq_KK",
        "colab_type": "text"
      },
      "cell_type": "markdown",
      "source": [
        "---\n",
        "## Defining the network with PyTorch\n",
        "\n",
        "Below is where you'll define the network.\n",
        "\n",
        "<img src=\"assets/charRNN.png\" width=500px>\n",
        "\n",
        "Next, you'll use PyTorch to define the architecture of the network. We start by defining the layers and operations we want. Then, define a method for the forward pass. You've also been given a method for predicting characters."
      ]
    },
    {
      "metadata": {
        "id": "M7zmfo5Rq_KL",
        "colab_type": "text"
      },
      "cell_type": "markdown",
      "source": [
        "### Model Structure\n",
        "\n",
        "In `__init__` the suggested structure is as follows:\n",
        "* Create and store the necessary dictionaries (this has been done for you)\n",
        "* Define an LSTM layer that takes as params: an input size (the number of characters), a hidden layer size `n_hidden`, a number of layers `n_layers`, a dropout probability `drop_prob`, and a batch_first boolean (True, since we are batching)\n",
        "* Define a dropout layer with `dropout_prob`\n",
        "* Define a fully-connected layer with params: input size `n_hidden` and output size (the number of characters)\n",
        "* Finally, initialize the weights (again, this has been given)\n",
        "\n",
        "Note that some parameters have been named and given in the `__init__` function, and we use them and store them by doing something like `self.drop_prob = drop_prob`."
      ]
    },
    {
      "metadata": {
        "id": "Nor8QAxKq_KN",
        "colab_type": "text"
      },
      "cell_type": "markdown",
      "source": [
        "---\n",
        "### LSTM Inputs/Outputs\n",
        "\n",
        "You can create a basic [LSTM layer](https://pytorch.org/docs/stable/nn.html#lstm) as follows\n",
        "\n",
        "```python\n",
        "self.lstm = nn.LSTM(input_size, n_hidden, n_layers, \n",
        "                            dropout=drop_prob, batch_first=True)\n",
        "```\n",
        "\n",
        "where `input_size` is the number of characters this cell expects to see as sequential input, and `n_hidden` is the number of units in the hidden layers in the cell. And we can add dropout by adding a dropout parameter with a specified probability; this will automatically add dropout to the inputs or outputs. Finally, in the `forward` function, we can stack up the LSTM cells into layers using `.view`. With this, you pass in a list of cells and it will send the output of one cell into the next cell.\n",
        "\n",
        "We also need to create an initial hidden state of all zeros. This is done like so\n",
        "\n",
        "```python\n",
        "self.init_hidden()\n",
        "```"
      ]
    },
    {
      "metadata": {
        "id": "jMZw-gUqq_KN",
        "colab_type": "code",
        "outputId": "f554068f-f2ca-42d7-fd32-0b433ccdcbf9",
        "colab": {
          "base_uri": "https://localhost:8080/",
          "height": 34
        }
      },
      "cell_type": "code",
      "source": [
        "# check if GPU is available\n",
        "train_on_gpu = torch.cuda.is_available()\n",
        "if(train_on_gpu):\n",
        "    print('Training on GPU!')\n",
        "else: \n",
        "    print('No GPU available, training on CPU; consider making n_epochs very small.')"
      ],
      "execution_count": 0,
      "outputs": [
        {
          "output_type": "stream",
          "text": [
            "Training on GPU!\n"
          ],
          "name": "stdout"
        }
      ]
    },
    {
      "metadata": {
        "id": "aMIE2RQaq_KR",
        "colab_type": "code",
        "colab": {}
      },
      "cell_type": "code",
      "source": [
        "class CharRNN(nn.Module):\n",
        "    \n",
        "    def __init__(self, tokens, n_hidden=256, n_layers=2,\n",
        "                               drop_prob=0.5, lr=0.001):\n",
        "        super().__init__()\n",
        "        self.drop_prob = drop_prob\n",
        "        self.n_layers = n_layers\n",
        "        self.n_hidden = n_hidden\n",
        "        self.lr = lr\n",
        "        \n",
        "        # creating character dictionaries\n",
        "        self.chars = tokens\n",
        "        self.int2char = dict(enumerate(self.chars))\n",
        "        self.char2int = {ch: ii for ii, ch in self.int2char.items()}\n",
        "        \n",
        "        ## TODO: define the layers of the model\n",
        "        self.lstm = nn.LSTM(len(self.chars), n_hidden, n_layers, \n",
        "                            dropout=drop_prob, batch_first=True)\n",
        "        self.dropout = nn.Dropout(drop_prob)\n",
        "        \n",
        "        self.fc = nn.Linear(n_hidden, len(self.chars))\n",
        "      \n",
        "    \n",
        "    def forward(self, x, hidden):\n",
        "        ''' Forward pass through the network. \n",
        "            These inputs are x, and the hidden/cell state `hidden`. '''\n",
        "                \n",
        "        ## TODO: Get the outputs and the new hidden state from the lstm\n",
        "        r_output, hidden = self.lstm(x, hidden)\n",
        "        out = self.dropout(r_output)\n",
        "        out = out.contiguous().view(-1, self.n_hidden)\n",
        "        out = self.fc(out)\n",
        "        \n",
        "        # return the final output and the hidden state\n",
        "        return out, hidden\n",
        "    \n",
        "    \n",
        "    def init_hidden(self, batch_size):\n",
        "        ''' Initializes hidden state '''\n",
        "        # Create two new tensors with sizes n_layers x batch_size x n_hidden,\n",
        "        # initialized to zero, for hidden state and cell state of LSTM\n",
        "        weight = next(self.parameters()).data\n",
        "        \n",
        "        if (train_on_gpu):\n",
        "            hidden = (weight.new(self.n_layers, batch_size, self.n_hidden).zero_().cuda(),\n",
        "                  weight.new(self.n_layers, batch_size, self.n_hidden).zero_().cuda())\n",
        "        else:\n",
        "            hidden = (weight.new(self.n_layers, batch_size, self.n_hidden).zero_(),\n",
        "                      weight.new(self.n_layers, batch_size, self.n_hidden).zero_())\n",
        "        \n",
        "        return hidden\n",
        "        "
      ],
      "execution_count": 0,
      "outputs": []
    },
    {
      "metadata": {
        "id": "aZdNkn5Tq_KZ",
        "colab_type": "text"
      },
      "cell_type": "markdown",
      "source": [
        "## Time to train\n",
        "\n",
        "The train function gives us the ability to set the number of epochs, the learning rate, and other parameters.\n",
        "\n",
        "Below we're using an Adam optimizer and cross entropy loss since we are looking at character class scores as output. We calculate the loss and perform backpropagation, as usual!\n",
        "\n",
        "A couple of details about training: \n",
        ">* Within the batch loop, we detach the hidden state from its history; this time setting it equal to a new *tuple* variable because an LSTM has a hidden state that is a tuple of the hidden and cell states.\n",
        "* We use [`clip_grad_norm_`](https://pytorch.org/docs/stable/_modules/torch/nn/utils/clip_grad.html) to help prevent exploding gradients."
      ]
    },
    {
      "metadata": {
        "id": "7uQxYoyHq_Kb",
        "colab_type": "code",
        "colab": {}
      },
      "cell_type": "code",
      "source": [
        "def train(net, data, epochs=10, batch_size=10, seq_length=50, lr=0.001, clip=5, val_frac=0.1, print_every=10):\n",
        "    ''' Training a network \n",
        "    \n",
        "        Arguments\n",
        "        ---------\n",
        "        \n",
        "        net: CharRNN network\n",
        "        data: text data to train the network\n",
        "        epochs: Number of epochs to train\n",
        "        batch_size: Number of mini-sequences per mini-batch, aka batch size\n",
        "        seq_length: Number of character steps per mini-batch\n",
        "        lr: learning rate\n",
        "        clip: gradient clipping\n",
        "        val_frac: Fraction of data to hold out for validation\n",
        "        print_every: Number of steps for printing training and validation loss\n",
        "    \n",
        "    '''\n",
        "    net.train()\n",
        "    \n",
        "    opt = torch.optim.Adam(net.parameters(), lr=lr)\n",
        "    criterion = nn.CrossEntropyLoss()\n",
        "    \n",
        "    # create training and validation data\n",
        "    val_idx = int(len(data)*(1-val_frac))\n",
        "    data, val_data = data[:val_idx], data[val_idx:]\n",
        "    \n",
        "    if(train_on_gpu):\n",
        "        net.cuda()\n",
        "    \n",
        "    counter = 0\n",
        "    n_chars = len(net.chars)\n",
        "    for e in range(epochs):\n",
        "        # initialize hidden state\n",
        "        h = net.init_hidden(batch_size)\n",
        "        \n",
        "        for x, y in get_batches(data, batch_size, seq_length):\n",
        "            counter += 1\n",
        "            \n",
        "            # One-hot encode our data and make them Torch tensors\n",
        "            x = one_hot_encode(x, n_chars)\n",
        "            inputs, targets = torch.from_numpy(x), torch.from_numpy(y)\n",
        "            \n",
        "            if(train_on_gpu):\n",
        "                inputs, targets = inputs.cuda(), targets.cuda()\n",
        "\n",
        "            # Creating new variables for the hidden state, otherwise\n",
        "            # we'd backprop through the entire training history\n",
        "            h = tuple([each.data for each in h])\n",
        "\n",
        "            # zero accumulated gradients\n",
        "            net.zero_grad()\n",
        "            \n",
        "            # get the output from the model\n",
        "            output, h = net(inputs, h)\n",
        "            \n",
        "            # calculate the loss and perform backprop\n",
        "            loss = criterion(output, targets.view(batch_size*seq_length))\n",
        "            loss.backward()\n",
        "            # `clip_grad_norm` helps prevent the exploding gradient problem in RNNs / LSTMs.\n",
        "            nn.utils.clip_grad_norm_(net.parameters(), clip)\n",
        "            opt.step()\n",
        "            \n",
        "            # loss stats\n",
        "            if counter % print_every == 0:\n",
        "                # Get validation loss\n",
        "                val_h = net.init_hidden(batch_size)\n",
        "                val_losses = []\n",
        "                net.eval()\n",
        "                for x, y in get_batches(val_data, batch_size, seq_length):\n",
        "                    # One-hot encode our data and make them Torch tensors\n",
        "                    x = one_hot_encode(x, n_chars)\n",
        "                    x, y = torch.from_numpy(x), torch.from_numpy(y)\n",
        "                    \n",
        "                    # Creating new variables for the hidden state, otherwise\n",
        "                    # we'd backprop through the entire training history\n",
        "                    val_h = tuple([each.data for each in val_h])\n",
        "                    \n",
        "                    inputs, targets = x, y\n",
        "                    if(train_on_gpu):\n",
        "                        inputs, targets = inputs.cuda(), targets.cuda()\n",
        "\n",
        "                    output, val_h = net(inputs, val_h)\n",
        "                    val_loss = criterion(output, targets.view(batch_size*seq_length))\n",
        "                \n",
        "                    val_losses.append(val_loss.item())\n",
        "                \n",
        "                net.train() # reset to train mode after iterationg through validation data\n",
        "                \n",
        "                print(\"Epoch: {}/{}...\".format(e+1, epochs),\n",
        "                      \"Step: {}...\".format(counter),\n",
        "                      \"Loss: {:.4f}...\".format(loss.item()),\n",
        "                      \"Val Loss: {:.4f}\".format(np.mean(val_losses)))"
      ],
      "execution_count": 0,
      "outputs": []
    },
    {
      "metadata": {
        "id": "MeR7WOiwq_Kj",
        "colab_type": "text"
      },
      "cell_type": "markdown",
      "source": [
        "## Instantiating the model\n",
        "\n",
        "Now we can actually train the network. First we'll create the network itself, with some given hyperparameters. Then, define the mini-batches sizes, and start training!"
      ]
    },
    {
      "metadata": {
        "id": "w4mNJiGOq_Km",
        "colab_type": "code",
        "outputId": "afa7d251-b5ec-4602-9885-a7621ff5e9af",
        "colab": {
          "base_uri": "https://localhost:8080/",
          "height": 101
        }
      },
      "cell_type": "code",
      "source": [
        "## TODO: set you model hyperparameters\n",
        "# define and print the net\n",
        "n_hidden= 512\n",
        "n_layers= 2\n",
        "\n",
        "net = CharRNN(chars, n_hidden, n_layers)\n",
        "print(net)"
      ],
      "execution_count": 0,
      "outputs": [
        {
          "output_type": "stream",
          "text": [
            "CharRNN(\n",
            "  (lstm): LSTM(83, 512, num_layers=2, batch_first=True, dropout=0.5)\n",
            "  (dropout): Dropout(p=0.5)\n",
            "  (fc): Linear(in_features=512, out_features=83, bias=True)\n",
            ")\n"
          ],
          "name": "stdout"
        }
      ]
    },
    {
      "metadata": {
        "id": "yHWmFWmHq_Kq",
        "colab_type": "text"
      },
      "cell_type": "markdown",
      "source": [
        "### Set your training hyperparameters!"
      ]
    },
    {
      "metadata": {
        "scrolled": true,
        "id": "5Dke6ePHq_Ks",
        "colab_type": "code",
        "outputId": "4fcc71c3-f626-4631-80e0-474b9e2c3f94",
        "colab": {
          "base_uri": "https://localhost:8080/",
          "height": 4687
        }
      },
      "cell_type": "code",
      "source": [
        "batch_size = 128\n",
        "seq_length =  100\n",
        "n_epochs = 20  # start small if you are just testing initial behavior\n",
        "\n",
        "# train the model\n",
        "train(net, encoded, epochs=n_epochs, batch_size=batch_size, seq_length=seq_length, lr=0.001, print_every=10)"
      ],
      "execution_count": 0,
      "outputs": [
        {
          "output_type": "stream",
          "text": [
            "Epoch: 1/20... Step: 10... Loss: 3.2430... Val Loss: 3.1584\n",
            "Epoch: 1/20... Step: 20... Loss: 3.1427... Val Loss: 3.1298\n",
            "Epoch: 1/20... Step: 30... Loss: 3.1421... Val Loss: 3.1205\n",
            "Epoch: 1/20... Step: 40... Loss: 3.1081... Val Loss: 3.1192\n",
            "Epoch: 1/20... Step: 50... Loss: 3.1398... Val Loss: 3.1177\n",
            "Epoch: 1/20... Step: 60... Loss: 3.1194... Val Loss: 3.1151\n",
            "Epoch: 1/20... Step: 70... Loss: 3.1066... Val Loss: 3.1131\n",
            "Epoch: 1/20... Step: 80... Loss: 3.1162... Val Loss: 3.1074\n",
            "Epoch: 1/20... Step: 90... Loss: 3.1087... Val Loss: 3.0934\n",
            "Epoch: 1/20... Step: 100... Loss: 3.0675... Val Loss: 3.0577\n",
            "Epoch: 1/20... Step: 110... Loss: 2.9947... Val Loss: 2.9709\n",
            "Epoch: 1/20... Step: 120... Loss: 2.9539... Val Loss: 2.9447\n",
            "Epoch: 1/20... Step: 130... Loss: 2.8721... Val Loss: 2.8376\n",
            "Epoch: 2/20... Step: 140... Loss: 2.7811... Val Loss: 2.7302\n",
            "Epoch: 2/20... Step: 150... Loss: 2.6797... Val Loss: 2.6225\n",
            "Epoch: 2/20... Step: 160... Loss: 2.5692... Val Loss: 2.5387\n",
            "Epoch: 2/20... Step: 170... Loss: 2.4958... Val Loss: 2.4901\n",
            "Epoch: 2/20... Step: 180... Loss: 2.4632... Val Loss: 2.4376\n",
            "Epoch: 2/20... Step: 190... Loss: 2.4080... Val Loss: 2.4063\n",
            "Epoch: 2/20... Step: 200... Loss: 2.4058... Val Loss: 2.3782\n",
            "Epoch: 2/20... Step: 210... Loss: 2.3689... Val Loss: 2.3441\n",
            "Epoch: 2/20... Step: 220... Loss: 2.3353... Val Loss: 2.3137\n",
            "Epoch: 2/20... Step: 230... Loss: 2.3254... Val Loss: 2.2985\n",
            "Epoch: 2/20... Step: 240... Loss: 2.3030... Val Loss: 2.2614\n",
            "Epoch: 2/20... Step: 250... Loss: 2.2381... Val Loss: 2.2367\n",
            "Epoch: 2/20... Step: 260... Loss: 2.2089... Val Loss: 2.2151\n",
            "Epoch: 2/20... Step: 270... Loss: 2.2207... Val Loss: 2.1947\n",
            "Epoch: 3/20... Step: 280... Loss: 2.2170... Val Loss: 2.1670\n",
            "Epoch: 3/20... Step: 290... Loss: 2.1775... Val Loss: 2.1431\n",
            "Epoch: 3/20... Step: 300... Loss: 2.1601... Val Loss: 2.1263\n",
            "Epoch: 3/20... Step: 310... Loss: 2.1295... Val Loss: 2.1080\n",
            "Epoch: 3/20... Step: 320... Loss: 2.0970... Val Loss: 2.0861\n",
            "Epoch: 3/20... Step: 330... Loss: 2.0816... Val Loss: 2.0701\n",
            "Epoch: 3/20... Step: 340... Loss: 2.0911... Val Loss: 2.0575\n",
            "Epoch: 3/20... Step: 350... Loss: 2.0833... Val Loss: 2.0318\n",
            "Epoch: 3/20... Step: 360... Loss: 2.0096... Val Loss: 2.0173\n",
            "Epoch: 3/20... Step: 370... Loss: 2.0404... Val Loss: 1.9972\n",
            "Epoch: 3/20... Step: 380... Loss: 2.0080... Val Loss: 1.9811\n",
            "Epoch: 3/20... Step: 390... Loss: 1.9851... Val Loss: 1.9679\n",
            "Epoch: 3/20... Step: 400... Loss: 1.9624... Val Loss: 1.9505\n",
            "Epoch: 3/20... Step: 410... Loss: 1.9753... Val Loss: 1.9351\n",
            "Epoch: 4/20... Step: 420... Loss: 1.9572... Val Loss: 1.9224\n",
            "Epoch: 4/20... Step: 430... Loss: 1.9475... Val Loss: 1.9094\n",
            "Epoch: 4/20... Step: 440... Loss: 1.9339... Val Loss: 1.8958\n",
            "Epoch: 4/20... Step: 450... Loss: 1.8706... Val Loss: 1.8824\n",
            "Epoch: 4/20... Step: 460... Loss: 1.8544... Val Loss: 1.8733\n",
            "Epoch: 4/20... Step: 470... Loss: 1.8915... Val Loss: 1.8589\n",
            "Epoch: 4/20... Step: 480... Loss: 1.8777... Val Loss: 1.8497\n",
            "Epoch: 4/20... Step: 490... Loss: 1.8789... Val Loss: 1.8377\n",
            "Epoch: 4/20... Step: 500... Loss: 1.8765... Val Loss: 1.8293\n",
            "Epoch: 4/20... Step: 510... Loss: 1.8537... Val Loss: 1.8137\n",
            "Epoch: 4/20... Step: 520... Loss: 1.8628... Val Loss: 1.8078\n",
            "Epoch: 4/20... Step: 530... Loss: 1.8201... Val Loss: 1.7996\n",
            "Epoch: 4/20... Step: 540... Loss: 1.7803... Val Loss: 1.7878\n",
            "Epoch: 4/20... Step: 550... Loss: 1.8314... Val Loss: 1.7746\n",
            "Epoch: 5/20... Step: 560... Loss: 1.7995... Val Loss: 1.7681\n",
            "Epoch: 5/20... Step: 570... Loss: 1.7787... Val Loss: 1.7600\n",
            "Epoch: 5/20... Step: 580... Loss: 1.7632... Val Loss: 1.7486\n",
            "Epoch: 5/20... Step: 590... Loss: 1.7616... Val Loss: 1.7398\n",
            "Epoch: 5/20... Step: 600... Loss: 1.7448... Val Loss: 1.7334\n",
            "Epoch: 5/20... Step: 610... Loss: 1.7465... Val Loss: 1.7261\n",
            "Epoch: 5/20... Step: 620... Loss: 1.7410... Val Loss: 1.7179\n",
            "Epoch: 5/20... Step: 630... Loss: 1.7586... Val Loss: 1.7101\n",
            "Epoch: 5/20... Step: 640... Loss: 1.7277... Val Loss: 1.7037\n",
            "Epoch: 5/20... Step: 650... Loss: 1.7024... Val Loss: 1.6947\n",
            "Epoch: 5/20... Step: 660... Loss: 1.6931... Val Loss: 1.6866\n",
            "Epoch: 5/20... Step: 670... Loss: 1.7155... Val Loss: 1.6823\n",
            "Epoch: 5/20... Step: 680... Loss: 1.7144... Val Loss: 1.6783\n",
            "Epoch: 5/20... Step: 690... Loss: 1.6917... Val Loss: 1.6725\n",
            "Epoch: 6/20... Step: 700... Loss: 1.6895... Val Loss: 1.6617\n",
            "Epoch: 6/20... Step: 710... Loss: 1.6719... Val Loss: 1.6568\n",
            "Epoch: 6/20... Step: 720... Loss: 1.6620... Val Loss: 1.6481\n",
            "Epoch: 6/20... Step: 730... Loss: 1.6687... Val Loss: 1.6397\n",
            "Epoch: 6/20... Step: 740... Loss: 1.6511... Val Loss: 1.6370\n",
            "Epoch: 6/20... Step: 750... Loss: 1.6275... Val Loss: 1.6303\n",
            "Epoch: 6/20... Step: 760... Loss: 1.6662... Val Loss: 1.6269\n",
            "Epoch: 6/20... Step: 770... Loss: 1.6386... Val Loss: 1.6249\n",
            "Epoch: 6/20... Step: 780... Loss: 1.6320... Val Loss: 1.6265\n",
            "Epoch: 6/20... Step: 790... Loss: 1.6160... Val Loss: 1.6126\n",
            "Epoch: 6/20... Step: 800... Loss: 1.6268... Val Loss: 1.6085\n",
            "Epoch: 6/20... Step: 810... Loss: 1.6216... Val Loss: 1.6028\n",
            "Epoch: 6/20... Step: 820... Loss: 1.5840... Val Loss: 1.5974\n",
            "Epoch: 6/20... Step: 830... Loss: 1.6233... Val Loss: 1.5915\n",
            "Epoch: 7/20... Step: 840... Loss: 1.5766... Val Loss: 1.5859\n",
            "Epoch: 7/20... Step: 850... Loss: 1.5973... Val Loss: 1.5827\n",
            "Epoch: 7/20... Step: 860... Loss: 1.5800... Val Loss: 1.5749\n",
            "Epoch: 7/20... Step: 870... Loss: 1.5885... Val Loss: 1.5727\n",
            "Epoch: 7/20... Step: 880... Loss: 1.5852... Val Loss: 1.5679\n",
            "Epoch: 7/20... Step: 890... Loss: 1.5926... Val Loss: 1.5648\n",
            "Epoch: 7/20... Step: 900... Loss: 1.5610... Val Loss: 1.5601\n",
            "Epoch: 7/20... Step: 910... Loss: 1.5368... Val Loss: 1.5621\n",
            "Epoch: 7/20... Step: 920... Loss: 1.5592... Val Loss: 1.5539\n",
            "Epoch: 7/20... Step: 930... Loss: 1.5456... Val Loss: 1.5522\n",
            "Epoch: 7/20... Step: 940... Loss: 1.5474... Val Loss: 1.5456\n",
            "Epoch: 7/20... Step: 950... Loss: 1.5533... Val Loss: 1.5411\n",
            "Epoch: 7/20... Step: 960... Loss: 1.5564... Val Loss: 1.5389\n",
            "Epoch: 7/20... Step: 970... Loss: 1.5727... Val Loss: 1.5370\n",
            "Epoch: 8/20... Step: 980... Loss: 1.5365... Val Loss: 1.5293\n",
            "Epoch: 8/20... Step: 990... Loss: 1.5325... Val Loss: 1.5270\n",
            "Epoch: 8/20... Step: 1000... Loss: 1.5364... Val Loss: 1.5229\n",
            "Epoch: 8/20... Step: 1010... Loss: 1.5536... Val Loss: 1.5185\n",
            "Epoch: 8/20... Step: 1020... Loss: 1.5368... Val Loss: 1.5154\n",
            "Epoch: 8/20... Step: 1030... Loss: 1.5235... Val Loss: 1.5140\n",
            "Epoch: 8/20... Step: 1040... Loss: 1.5321... Val Loss: 1.5118\n",
            "Epoch: 8/20... Step: 1050... Loss: 1.5023... Val Loss: 1.5123\n",
            "Epoch: 8/20... Step: 1060... Loss: 1.5132... Val Loss: 1.5059\n",
            "Epoch: 8/20... Step: 1070... Loss: 1.5096... Val Loss: 1.5046\n",
            "Epoch: 8/20... Step: 1080... Loss: 1.5111... Val Loss: 1.5001\n",
            "Epoch: 8/20... Step: 1090... Loss: 1.4907... Val Loss: 1.4948\n",
            "Epoch: 8/20... Step: 1100... Loss: 1.4871... Val Loss: 1.4909\n",
            "Epoch: 8/20... Step: 1110... Loss: 1.4912... Val Loss: 1.4888\n",
            "Epoch: 9/20... Step: 1120... Loss: 1.5108... Val Loss: 1.4852\n",
            "Epoch: 9/20... Step: 1130... Loss: 1.4966... Val Loss: 1.4844\n",
            "Epoch: 9/20... Step: 1140... Loss: 1.5027... Val Loss: 1.4791\n",
            "Epoch: 9/20... Step: 1150... Loss: 1.5086... Val Loss: 1.4776\n",
            "Epoch: 9/20... Step: 1160... Loss: 1.4598... Val Loss: 1.4718\n",
            "Epoch: 9/20... Step: 1170... Loss: 1.4852... Val Loss: 1.4713\n",
            "Epoch: 9/20... Step: 1180... Loss: 1.4686... Val Loss: 1.4722\n",
            "Epoch: 9/20... Step: 1190... Loss: 1.4949... Val Loss: 1.4667\n",
            "Epoch: 9/20... Step: 1200... Loss: 1.4484... Val Loss: 1.4660\n",
            "Epoch: 9/20... Step: 1210... Loss: 1.4618... Val Loss: 1.4640\n",
            "Epoch: 9/20... Step: 1220... Loss: 1.4693... Val Loss: 1.4670\n",
            "Epoch: 9/20... Step: 1230... Loss: 1.4434... Val Loss: 1.4592\n",
            "Epoch: 9/20... Step: 1240... Loss: 1.4489... Val Loss: 1.4548\n",
            "Epoch: 9/20... Step: 1250... Loss: 1.4471... Val Loss: 1.4520\n",
            "Epoch: 10/20... Step: 1260... Loss: 1.4684... Val Loss: 1.4509\n",
            "Epoch: 10/20... Step: 1270... Loss: 1.4484... Val Loss: 1.4503\n",
            "Epoch: 10/20... Step: 1280... Loss: 1.4741... Val Loss: 1.4470\n",
            "Epoch: 10/20... Step: 1290... Loss: 1.4476... Val Loss: 1.4463\n",
            "Epoch: 10/20... Step: 1300... Loss: 1.4447... Val Loss: 1.4420\n",
            "Epoch: 10/20... Step: 1310... Loss: 1.4508... Val Loss: 1.4420\n",
            "Epoch: 10/20... Step: 1320... Loss: 1.4283... Val Loss: 1.4424\n",
            "Epoch: 10/20... Step: 1330... Loss: 1.4335... Val Loss: 1.4366\n",
            "Epoch: 10/20... Step: 1340... Loss: 1.4148... Val Loss: 1.4349\n",
            "Epoch: 10/20... Step: 1350... Loss: 1.4068... Val Loss: 1.4334\n",
            "Epoch: 10/20... Step: 1360... Loss: 1.4181... Val Loss: 1.4342\n",
            "Epoch: 10/20... Step: 1370... Loss: 1.4057... Val Loss: 1.4319\n",
            "Epoch: 10/20... Step: 1380... Loss: 1.4405... Val Loss: 1.4241\n",
            "Epoch: 10/20... Step: 1390... Loss: 1.4493... Val Loss: 1.4262\n",
            "Epoch: 11/20... Step: 1400... Loss: 1.4514... Val Loss: 1.4189\n",
            "Epoch: 11/20... Step: 1410... Loss: 1.4611... Val Loss: 1.4231\n",
            "Epoch: 11/20... Step: 1420... Loss: 1.4484... Val Loss: 1.4179\n",
            "Epoch: 11/20... Step: 1430... Loss: 1.4176... Val Loss: 1.4177\n",
            "Epoch: 11/20... Step: 1440... Loss: 1.4384... Val Loss: 1.4135\n",
            "Epoch: 11/20... Step: 1450... Loss: 1.3603... Val Loss: 1.4154\n",
            "Epoch: 11/20... Step: 1460... Loss: 1.3945... Val Loss: 1.4132\n",
            "Epoch: 11/20... Step: 1470... Loss: 1.3897... Val Loss: 1.4125\n",
            "Epoch: 11/20... Step: 1480... Loss: 1.4063... Val Loss: 1.4107\n",
            "Epoch: 11/20... Step: 1490... Loss: 1.4025... Val Loss: 1.4107\n",
            "Epoch: 11/20... Step: 1500... Loss: 1.3809... Val Loss: 1.4098\n",
            "Epoch: 11/20... Step: 1510... Loss: 1.3652... Val Loss: 1.4052\n",
            "Epoch: 11/20... Step: 1520... Loss: 1.4000... Val Loss: 1.4018\n",
            "Epoch: 12/20... Step: 1530... Loss: 1.4487... Val Loss: 1.4024\n",
            "Epoch: 12/20... Step: 1540... Loss: 1.4145... Val Loss: 1.3979\n",
            "Epoch: 12/20... Step: 1550... Loss: 1.4080... Val Loss: 1.3980\n",
            "Epoch: 12/20... Step: 1560... Loss: 1.4191... Val Loss: 1.3955\n",
            "Epoch: 12/20... Step: 1570... Loss: 1.3674... Val Loss: 1.3968\n",
            "Epoch: 12/20... Step: 1580... Loss: 1.3511... Val Loss: 1.3973\n",
            "Epoch: 12/20... Step: 1590... Loss: 1.3488... Val Loss: 1.3955\n",
            "Epoch: 12/20... Step: 1600... Loss: 1.3757... Val Loss: 1.3903\n",
            "Epoch: 12/20... Step: 1610... Loss: 1.3616... Val Loss: 1.3895\n",
            "Epoch: 12/20... Step: 1620... Loss: 1.3543... Val Loss: 1.3873\n",
            "Epoch: 12/20... Step: 1630... Loss: 1.3798... Val Loss: 1.3873\n",
            "Epoch: 12/20... Step: 1640... Loss: 1.3573... Val Loss: 1.3873\n",
            "Epoch: 12/20... Step: 1650... Loss: 1.3395... Val Loss: 1.3874\n",
            "Epoch: 12/20... Step: 1660... Loss: 1.3908... Val Loss: 1.3799\n",
            "Epoch: 13/20... Step: 1670... Loss: 1.3583... Val Loss: 1.3853\n",
            "Epoch: 13/20... Step: 1680... Loss: 1.3753... Val Loss: 1.3780\n",
            "Epoch: 13/20... Step: 1690... Loss: 1.3438... Val Loss: 1.3752\n",
            "Epoch: 13/20... Step: 1700... Loss: 1.3564... Val Loss: 1.3724\n",
            "Epoch: 13/20... Step: 1710... Loss: 1.3302... Val Loss: 1.3777\n",
            "Epoch: 13/20... Step: 1720... Loss: 1.3425... Val Loss: 1.3753\n",
            "Epoch: 13/20... Step: 1730... Loss: 1.3801... Val Loss: 1.3765\n",
            "Epoch: 13/20... Step: 1740... Loss: 1.3470... Val Loss: 1.3722\n",
            "Epoch: 13/20... Step: 1750... Loss: 1.3121... Val Loss: 1.3722\n",
            "Epoch: 13/20... Step: 1760... Loss: 1.3463... Val Loss: 1.3681\n",
            "Epoch: 13/20... Step: 1770... Loss: 1.3633... Val Loss: 1.3698\n",
            "Epoch: 13/20... Step: 1780... Loss: 1.3379... Val Loss: 1.3690\n",
            "Epoch: 13/20... Step: 1790... Loss: 1.3281... Val Loss: 1.3657\n",
            "Epoch: 13/20... Step: 1800... Loss: 1.3502... Val Loss: 1.3621\n",
            "Epoch: 14/20... Step: 1810... Loss: 1.3493... Val Loss: 1.3691\n",
            "Epoch: 14/20... Step: 1820... Loss: 1.3376... Val Loss: 1.3581\n",
            "Epoch: 14/20... Step: 1830... Loss: 1.3650... Val Loss: 1.3580\n",
            "Epoch: 14/20... Step: 1840... Loss: 1.3022... Val Loss: 1.3578\n",
            "Epoch: 14/20... Step: 1850... Loss: 1.2905... Val Loss: 1.3571\n",
            "Epoch: 14/20... Step: 1860... Loss: 1.3491... Val Loss: 1.3551\n",
            "Epoch: 14/20... Step: 1870... Loss: 1.3516... Val Loss: 1.3551\n",
            "Epoch: 14/20... Step: 1880... Loss: 1.3337... Val Loss: 1.3524\n",
            "Epoch: 14/20... Step: 1890... Loss: 1.3455... Val Loss: 1.3522\n",
            "Epoch: 14/20... Step: 1900... Loss: 1.3288... Val Loss: 1.3468\n",
            "Epoch: 14/20... Step: 1910... Loss: 1.3357... Val Loss: 1.3433\n",
            "Epoch: 14/20... Step: 1920... Loss: 1.3172... Val Loss: 1.3425\n",
            "Epoch: 14/20... Step: 1930... Loss: 1.2920... Val Loss: 1.3413\n",
            "Epoch: 14/20... Step: 1940... Loss: 1.3506... Val Loss: 1.3403\n",
            "Epoch: 15/20... Step: 1950... Loss: 1.3238... Val Loss: 1.3437\n",
            "Epoch: 15/20... Step: 1960... Loss: 1.3209... Val Loss: 1.3386\n",
            "Epoch: 15/20... Step: 1970... Loss: 1.3091... Val Loss: 1.3353\n",
            "Epoch: 15/20... Step: 1980... Loss: 1.2984... Val Loss: 1.3363\n",
            "Epoch: 15/20... Step: 1990... Loss: 1.3006... Val Loss: 1.3345\n",
            "Epoch: 15/20... Step: 2000... Loss: 1.2858... Val Loss: 1.3322\n",
            "Epoch: 15/20... Step: 2010... Loss: 1.3022... Val Loss: 1.3315\n",
            "Epoch: 15/20... Step: 2020... Loss: 1.3190... Val Loss: 1.3343\n",
            "Epoch: 15/20... Step: 2030... Loss: 1.2820... Val Loss: 1.3337\n",
            "Epoch: 15/20... Step: 2040... Loss: 1.3071... Val Loss: 1.3310\n",
            "Epoch: 15/20... Step: 2050... Loss: 1.2961... Val Loss: 1.3320\n",
            "Epoch: 15/20... Step: 2060... Loss: 1.2940... Val Loss: 1.3257\n",
            "Epoch: 15/20... Step: 2070... Loss: 1.3064... Val Loss: 1.3274\n",
            "Epoch: 15/20... Step: 2080... Loss: 1.3028... Val Loss: 1.3211\n",
            "Epoch: 16/20... Step: 2090... Loss: 1.3110... Val Loss: 1.3252\n",
            "Epoch: 16/20... Step: 2100... Loss: 1.2838... Val Loss: 1.3235\n",
            "Epoch: 16/20... Step: 2110... Loss: 1.2769... Val Loss: 1.3226\n",
            "Epoch: 16/20... Step: 2120... Loss: 1.2879... Val Loss: 1.3257\n",
            "Epoch: 16/20... Step: 2130... Loss: 1.2657... Val Loss: 1.3178\n",
            "Epoch: 16/20... Step: 2140... Loss: 1.2690... Val Loss: 1.3153\n",
            "Epoch: 16/20... Step: 2150... Loss: 1.3002... Val Loss: 1.3151\n",
            "Epoch: 16/20... Step: 2160... Loss: 1.2730... Val Loss: 1.3156\n",
            "Epoch: 16/20... Step: 2170... Loss: 1.2796... Val Loss: 1.3158\n",
            "Epoch: 16/20... Step: 2180... Loss: 1.2723... Val Loss: 1.3191\n",
            "Epoch: 16/20... Step: 2190... Loss: 1.2971... Val Loss: 1.3173\n",
            "Epoch: 16/20... Step: 2200... Loss: 1.2682... Val Loss: 1.3193\n",
            "Epoch: 16/20... Step: 2210... Loss: 1.2408... Val Loss: 1.3147\n",
            "Epoch: 16/20... Step: 2220... Loss: 1.2908... Val Loss: 1.3103\n",
            "Epoch: 17/20... Step: 2230... Loss: 1.2530... Val Loss: 1.3128\n",
            "Epoch: 17/20... Step: 2240... Loss: 1.2718... Val Loss: 1.3128\n",
            "Epoch: 17/20... Step: 2250... Loss: 1.2565... Val Loss: 1.3063\n",
            "Epoch: 17/20... Step: 2260... Loss: 1.2661... Val Loss: 1.3059\n",
            "Epoch: 17/20... Step: 2270... Loss: 1.2676... Val Loss: 1.3043\n",
            "Epoch: 17/20... Step: 2280... Loss: 1.2777... Val Loss: 1.3023\n",
            "Epoch: 17/20... Step: 2290... Loss: 1.2792... Val Loss: 1.3025\n",
            "Epoch: 17/20... Step: 2300... Loss: 1.2290... Val Loss: 1.3020\n",
            "Epoch: 17/20... Step: 2310... Loss: 1.2594... Val Loss: 1.2989\n",
            "Epoch: 17/20... Step: 2320... Loss: 1.2457... Val Loss: 1.3044\n",
            "Epoch: 17/20... Step: 2330... Loss: 1.2587... Val Loss: 1.3043\n",
            "Epoch: 17/20... Step: 2340... Loss: 1.2712... Val Loss: 1.2995\n",
            "Epoch: 17/20... Step: 2350... Loss: 1.2750... Val Loss: 1.3028\n",
            "Epoch: 17/20... Step: 2360... Loss: 1.2809... Val Loss: 1.3043\n",
            "Epoch: 18/20... Step: 2370... Loss: 1.2522... Val Loss: 1.3063\n",
            "Epoch: 18/20... Step: 2380... Loss: 1.2470... Val Loss: 1.2974\n",
            "Epoch: 18/20... Step: 2390... Loss: 1.2551... Val Loss: 1.3007\n",
            "Epoch: 18/20... Step: 2400... Loss: 1.2735... Val Loss: 1.2982\n",
            "Epoch: 18/20... Step: 2410... Loss: 1.2727... Val Loss: 1.2971\n",
            "Epoch: 18/20... Step: 2420... Loss: 1.2423... Val Loss: 1.2952\n",
            "Epoch: 18/20... Step: 2430... Loss: 1.2644... Val Loss: 1.2938\n",
            "Epoch: 18/20... Step: 2440... Loss: 1.2307... Val Loss: 1.2946\n",
            "Epoch: 18/20... Step: 2450... Loss: 1.2263... Val Loss: 1.2977\n",
            "Epoch: 18/20... Step: 2460... Loss: 1.2485... Val Loss: 1.2932\n",
            "Epoch: 18/20... Step: 2470... Loss: 1.2495... Val Loss: 1.2963\n",
            "Epoch: 18/20... Step: 2480... Loss: 1.2344... Val Loss: 1.2936\n",
            "Epoch: 18/20... Step: 2490... Loss: 1.2267... Val Loss: 1.2917\n",
            "Epoch: 18/20... Step: 2500... Loss: 1.2328... Val Loss: 1.2941\n",
            "Epoch: 19/20... Step: 2510... Loss: 1.2420... Val Loss: 1.2941\n",
            "Epoch: 19/20... Step: 2520... Loss: 1.2529... Val Loss: 1.2880\n",
            "Epoch: 19/20... Step: 2530... Loss: 1.2570... Val Loss: 1.2861\n",
            "Epoch: 19/20... Step: 2540... Loss: 1.2666... Val Loss: 1.2862\n",
            "Epoch: 19/20... Step: 2550... Loss: 1.2292... Val Loss: 1.2882\n",
            "Epoch: 19/20... Step: 2560... Loss: 1.2375... Val Loss: 1.2867\n",
            "Epoch: 19/20... Step: 2570... Loss: 1.2173... Val Loss: 1.2869\n",
            "Epoch: 19/20... Step: 2580... Loss: 1.2661... Val Loss: 1.2846\n",
            "Epoch: 19/20... Step: 2590... Loss: 1.2274... Val Loss: 1.2873\n",
            "Epoch: 19/20... Step: 2600... Loss: 1.2286... Val Loss: 1.2843\n",
            "Epoch: 19/20... Step: 2610... Loss: 1.2383... Val Loss: 1.2908\n",
            "Epoch: 19/20... Step: 2620... Loss: 1.2128... Val Loss: 1.2818\n",
            "Epoch: 19/20... Step: 2630... Loss: 1.2253... Val Loss: 1.2814\n",
            "Epoch: 19/20... Step: 2640... Loss: 1.2340... Val Loss: 1.2838\n",
            "Epoch: 20/20... Step: 2650... Loss: 1.2406... Val Loss: 1.2843\n",
            "Epoch: 20/20... Step: 2660... Loss: 1.2389... Val Loss: 1.2871\n",
            "Epoch: 20/20... Step: 2670... Loss: 1.2436... Val Loss: 1.2855\n",
            "Epoch: 20/20... Step: 2680... Loss: 1.2432... Val Loss: 1.2835\n",
            "Epoch: 20/20... Step: 2690... Loss: 1.2248... Val Loss: 1.2826\n",
            "Epoch: 20/20... Step: 2700... Loss: 1.2498... Val Loss: 1.2805\n",
            "Epoch: 20/20... Step: 2710... Loss: 1.2106... Val Loss: 1.2811\n",
            "Epoch: 20/20... Step: 2720... Loss: 1.2106... Val Loss: 1.2825\n",
            "Epoch: 20/20... Step: 2730... Loss: 1.2148... Val Loss: 1.2827\n",
            "Epoch: 20/20... Step: 2740... Loss: 1.1962... Val Loss: 1.2762\n",
            "Epoch: 20/20... Step: 2750... Loss: 1.2116... Val Loss: 1.2815\n",
            "Epoch: 20/20... Step: 2760... Loss: 1.2094... Val Loss: 1.2779\n",
            "Epoch: 20/20... Step: 2770... Loss: 1.2430... Val Loss: 1.2792\n",
            "Epoch: 20/20... Step: 2780... Loss: 1.2652... Val Loss: 1.2787\n"
          ],
          "name": "stdout"
        }
      ]
    },
    {
      "metadata": {
        "id": "mEaN4EsRq_Kx",
        "colab_type": "text"
      },
      "cell_type": "markdown",
      "source": [
        "## Getting the best model\n",
        "\n",
        "To set your hyperparameters to get the best performance, you'll want to watch the training and validation losses. If your training loss is much lower than the validation loss, you're overfitting. Increase regularization (more dropout) or use a smaller network. If the training and validation losses are close, you're underfitting so you can increase the size of the network."
      ]
    },
    {
      "metadata": {
        "id": "CFSXNxkdq_Ky",
        "colab_type": "text"
      },
      "cell_type": "markdown",
      "source": [
        "## Hyperparameters\n",
        "\n",
        "Here are the hyperparameters for the network.\n",
        "\n",
        "In defining the model:\n",
        "* `n_hidden` - The number of units in the hidden layers.\n",
        "* `n_layers` - Number of hidden LSTM layers to use.\n",
        "\n",
        "We assume that dropout probability and learning rate will be kept at the default, in this example.\n",
        "\n",
        "And in training:\n",
        "* `batch_size` - Number of sequences running through the network in one pass.\n",
        "* `seq_length` - Number of characters in the sequence the network is trained on. Larger is better typically, the network will learn more long range dependencies. But it takes longer to train. 100 is typically a good number here.\n",
        "* `lr` - Learning rate for training\n",
        "\n",
        "Here's some good advice from Andrej Karpathy on training the network. I'm going to copy it in here for your benefit, but also link to [where it originally came from](https://github.com/karpathy/char-rnn#tips-and-tricks).\n",
        "\n",
        "> ## Tips and Tricks\n",
        "\n",
        ">### Monitoring Validation Loss vs. Training Loss\n",
        ">If you're somewhat new to Machine Learning or Neural Networks it can take a bit of expertise to get good models. The most important quantity to keep track of is the difference between your training loss (printed during training) and the validation loss (printed once in a while when the RNN is run on the validation data (by default every 1000 iterations)). In particular:\n",
        "\n",
        "> - If your training loss is much lower than validation loss then this means the network might be **overfitting**. Solutions to this are to decrease your network size, or to increase dropout. For example you could try dropout of 0.5 and so on.\n",
        "> - If your training/validation loss are about equal then your model is **underfitting**. Increase the size of your model (either number of layers or the raw number of neurons per layer)\n",
        "\n",
        "> ### Approximate number of parameters\n",
        "\n",
        "> The two most important parameters that control the model are `n_hidden` and `n_layers`. I would advise that you always use `n_layers` of either 2/3. The `n_hidden` can be adjusted based on how much data you have. The two important quantities to keep track of here are:\n",
        "\n",
        "> - The number of parameters in your model. This is printed when you start training.\n",
        "> - The size of your dataset. 1MB file is approximately 1 million characters.\n",
        "\n",
        ">These two should be about the same order of magnitude. It's a little tricky to tell. Here are some examples:\n",
        "\n",
        "> - I have a 100MB dataset and I'm using the default parameter settings (which currently print 150K parameters). My data size is significantly larger (100 mil >> 0.15 mil), so I expect to heavily underfit. I am thinking I can comfortably afford to make `n_hidden` larger.\n",
        "> - I have a 10MB dataset and running a 10 million parameter model. I'm slightly nervous and I'm carefully monitoring my validation loss. If it's larger than my training loss then I may want to try to increase dropout a bit and see if that helps the validation loss.\n",
        "\n",
        "> ### Best models strategy\n",
        "\n",
        ">The winning strategy to obtaining very good models (if you have the compute time) is to always err on making the network larger (as large as you're willing to wait for it to compute) and then try different dropout values (between 0,1). Whatever model has the best validation performance (the loss, written in the checkpoint filename, low is good) is the one you should use in the end.\n",
        "\n",
        ">It is very common in deep learning to run many different models with many different hyperparameter settings, and in the end take whatever checkpoint gave the best validation performance.\n",
        "\n",
        ">By the way, the size of your training and validation splits are also parameters. Make sure you have a decent amount of data in your validation set or otherwise the validation performance will be noisy and not very informative."
      ]
    },
    {
      "metadata": {
        "id": "AKaxK4Msq_Kz",
        "colab_type": "text"
      },
      "cell_type": "markdown",
      "source": [
        "## Checkpoint\n",
        "\n",
        "After training, we'll save the model so we can load it again later if we need too. Here I'm saving the parameters needed to create the same architecture, the hidden layer hyperparameters and the text characters."
      ]
    },
    {
      "metadata": {
        "id": "K7aQxdlPq_K0",
        "colab_type": "code",
        "colab": {}
      },
      "cell_type": "code",
      "source": [
        "# change the name, for saving multiple files\n",
        "model_name = 'rnn_x_epoch.net'\n",
        "\n",
        "checkpoint = {'n_hidden': net.n_hidden,\n",
        "              'n_layers': net.n_layers,\n",
        "              'state_dict': net.state_dict(),\n",
        "              'tokens': net.chars}\n",
        "\n",
        "with open(model_name, 'wb') as f:\n",
        "    torch.save(checkpoint, f)"
      ],
      "execution_count": 0,
      "outputs": []
    },
    {
      "metadata": {
        "id": "kWfdqB8dq_K5",
        "colab_type": "text"
      },
      "cell_type": "markdown",
      "source": [
        "---\n",
        "## Making Predictions\n",
        "\n",
        "Now that the model is trained, we'll want to sample from it and make predictions about next characters! To sample, we pass in a character and have the network predict the next character. Then we take that character, pass it back in, and get another predicted character. Just keep doing this and you'll generate a bunch of text!\n",
        "\n",
        "### A note on the `predict`  function\n",
        "\n",
        "The output of our RNN is from a fully-connected layer and it outputs a **distribution of next-character scores**.\n",
        "\n",
        "> To actually get the next character, we apply a softmax function, which gives us a *probability* distribution that we can then sample to predict the next character.\n",
        "\n",
        "### Top K sampling\n",
        "\n",
        "Our predictions come from a categorical probability distribution over all the possible characters. We can make the sample text and make it more reasonable to handle (with less variables) by only considering some $K$ most probable characters. This will prevent the network from giving us completely absurd characters while allowing it to introduce some noise and randomness into the sampled text. Read more about [topk, here](https://pytorch.org/docs/stable/torch.html#torch.topk).\n"
      ]
    },
    {
      "metadata": {
        "id": "EGNT_59eq_K6",
        "colab_type": "code",
        "colab": {}
      },
      "cell_type": "code",
      "source": [
        "def predict(net, char, h=None, top_k=None):\n",
        "        ''' Given a character, predict the next character.\n",
        "            Returns the predicted character and the hidden state.\n",
        "        '''\n",
        "        \n",
        "        # tensor inputs\n",
        "        x = np.array([[net.char2int[char]]])\n",
        "        x = one_hot_encode(x, len(net.chars))\n",
        "        inputs = torch.from_numpy(x)\n",
        "        \n",
        "        if(train_on_gpu):\n",
        "            inputs = inputs.cuda()\n",
        "        \n",
        "        # detach hidden state from history\n",
        "        h = tuple([each.data for each in h])\n",
        "        # get the output of the model\n",
        "        out, h = net(inputs, h)\n",
        "\n",
        "        # get the character probabilities\n",
        "        p = F.softmax(out, dim=1).data\n",
        "        if(train_on_gpu):\n",
        "            p = p.cpu() # move to cpu\n",
        "        \n",
        "        # get top characters\n",
        "        if top_k is None:\n",
        "            top_ch = np.arange(len(net.chars))\n",
        "        else:\n",
        "            p, top_ch = p.topk(top_k)\n",
        "            top_ch = top_ch.numpy().squeeze()\n",
        "        \n",
        "        # select the likely next character with some element of randomness\n",
        "        p = p.numpy().squeeze()\n",
        "        char = np.random.choice(top_ch, p=p/p.sum())\n",
        "        \n",
        "        # return the encoded value of the predicted char and the hidden state\n",
        "        return net.int2char[char], h"
      ],
      "execution_count": 0,
      "outputs": []
    },
    {
      "metadata": {
        "id": "Or9SAT6Eq_K-",
        "colab_type": "text"
      },
      "cell_type": "markdown",
      "source": [
        "### Priming and generating text \n",
        "\n",
        "Typically you'll want to prime the network so you can build up a hidden state. Otherwise the network will start out generating characters at random. In general the first bunch of characters will be a little rough since it hasn't built up a long history of characters to predict from."
      ]
    },
    {
      "metadata": {
        "id": "UgF3gO-nq_K_",
        "colab_type": "code",
        "colab": {}
      },
      "cell_type": "code",
      "source": [
        "def sample(net, size, prime='The', top_k=None):\n",
        "        \n",
        "    if(train_on_gpu):\n",
        "        net.cuda()\n",
        "    else:\n",
        "        net.cpu()\n",
        "    \n",
        "    net.eval() # eval mode\n",
        "    \n",
        "    # First off, run through the prime characters\n",
        "    chars = [ch for ch in prime]\n",
        "    h = net.init_hidden(1)\n",
        "    for ch in prime:\n",
        "        char, h = predict(net, ch, h, top_k=top_k)\n",
        "\n",
        "    chars.append(char)\n",
        "    \n",
        "    # Now pass in the previous character and get a new one\n",
        "    for ii in range(size):\n",
        "        char, h = predict(net, chars[-1], h, top_k=top_k)\n",
        "        chars.append(char)\n",
        "\n",
        "    return ''.join(chars)"
      ],
      "execution_count": 0,
      "outputs": []
    },
    {
      "metadata": {
        "id": "G_m8Hh6gq_LD",
        "colab_type": "code",
        "outputId": "439d807e-1a37-47b1-ecaf-39db705f600e",
        "colab": {
          "base_uri": "https://localhost:8080/",
          "height": 386
        }
      },
      "cell_type": "code",
      "source": [
        "print(sample(net, 1000, prime='Anna', top_k=5))"
      ],
      "execution_count": 0,
      "outputs": [
        {
          "output_type": "stream",
          "text": [
            "Anna Anna sat stranging\n",
            "his wine, and turned at the sort of position.\n",
            "\n",
            "This she could never too, she would have been aslike in\n",
            "the carriage and her labor would have been, and seemed to straight to say,\n",
            "and almost with the sact at all of there as he had been struck his\n",
            "hands, and who had stopped, and shanding his what he had\n",
            "not to coming up and went off.\n",
            "\n",
            "\"Well, will be delighted. I don't see her.\". All the poor they were\n",
            "talking of some dead to him out of any hands. She felt all the\n",
            "daughter and shill beside him while the most contement, she could say\n",
            "to her at the sound of their hands of the momemunts.\n",
            "\n",
            "\"I don't let the most presence. To start all the time and\n",
            "marriages on them, but it's not to talk to a subject, but as she\n",
            "doubt, I don't care, and I succoed and--were sitting on the sound of the\n",
            "mother.\"\n",
            "\n",
            "\"That's not merely too, the point. You soon say, I, and I have never\n",
            "said to them, that I was to see him, to say ablo to tell me in\n",
            "this changement, but, of all the same too well so much\n"
          ],
          "name": "stdout"
        }
      ]
    },
    {
      "metadata": {
        "id": "2UuCSafgq_LG",
        "colab_type": "text"
      },
      "cell_type": "markdown",
      "source": [
        "## Loading a checkpoint"
      ]
    },
    {
      "metadata": {
        "id": "y06N9cniq_LH",
        "colab_type": "code",
        "colab": {}
      },
      "cell_type": "code",
      "source": [
        "# Here we have loaded in a model that trained over 20 epochs `rnn_20_epoch.net`\n",
        "with open('rnn_x_epoch.net', 'rb') as f:\n",
        "    checkpoint = torch.load(f)\n",
        "    \n",
        "loaded = CharRNN(checkpoint['tokens'], n_hidden=checkpoint['n_hidden'], n_layers=checkpoint['n_layers'])\n",
        "loaded.load_state_dict(checkpoint['state_dict'])"
      ],
      "execution_count": 0,
      "outputs": []
    },
    {
      "metadata": {
        "id": "-Qz_XIgAq_LN",
        "colab_type": "code",
        "outputId": "ba12ff75-c89a-4cab-de6e-92dfb994b31a",
        "colab": {
          "base_uri": "https://localhost:8080/",
          "height": 739
        }
      },
      "cell_type": "code",
      "source": [
        "# Sample using a loaded model\n",
        "print(sample(loaded, 2000, top_k=5, prime=\"And Levin said\"))"
      ],
      "execution_count": 0,
      "outputs": [
        {
          "output_type": "stream",
          "text": [
            "And Levin said, to her simple\n",
            "and successing as the same time. Her feeling of her face there was\n",
            "nothing taken off them to say, he was a look of how, and still so\n",
            "that it. Sergey Ivanovitch was a little arg tremaner to them.\n",
            "\n",
            "\"Yas she does not take anything as they. I say it is. Have tears\n",
            "there worse. And I see that he has a man's conversations, and show a\n",
            "little and still made to the stream, that's not a charming. Have I didn't\n",
            "care to be about the percounces, I shall be already to be angry, but\n",
            "himself share them to him.\n",
            "\n",
            "\"I have the day if I can't tell you allow. I'm glad to say\n",
            "that, and then we say a little with, but that's not to see those\n",
            "well and a little tomarrow whom?\" thought She would be an\n",
            "endress. Here and this stands and thought was not answer to\n",
            "have to see her, and straight at the streathers would be so\n",
            "told the mare was bectomed and with a little croad, at his\n",
            "wears, and taking a geasure and the moment when he could not\n",
            "have seen her sungers to his sister.\n",
            "\n",
            "\"You suppose, I don't know what I don't know which you want to be\n",
            "many father's care important!... Why say!...\n",
            "Yes, that were a gond, and we must be.\n",
            "\n",
            "\"And that is! Then are telling into the princess well he could back, it\n",
            "would be doubts, but I'm such out off course, and I should come to him,\n",
            "and the counting of her headt, that,\" said Stepan Arkadyevitch with\n",
            "the charming one, and still manightering her to him to him.\n",
            "\n",
            "As though in her face which had alrood his from his sense in\n",
            "the starring house, and sown this time the princess was but some\n",
            "directly to consequence on a late.\n",
            "\n",
            "\"I am going about. I don't believe to daughter. Better is all\n",
            "all of, but all the counting chomself, three munchance,\" said\n",
            "Levin.\n",
            "\n",
            "\"Yes, I can't be done with the presence of managerings.\"\n",
            "\n",
            "The crowd would say that he came into his head, and at his heart,\n",
            "shaten her husband and was still miserulted him. At his shoulders,\n",
            "and without too, he showed his sister--the combors would be not\n",
            "to be to be to say that the secret of somewing of h\n"
          ],
          "name": "stdout"
        }
      ]
    },
    {
      "metadata": {
        "id": "ffrktkAjq_LS",
        "colab_type": "code",
        "colab": {}
      },
      "cell_type": "code",
      "source": [
        ""
      ],
      "execution_count": 0,
      "outputs": []
    }
  ]
}